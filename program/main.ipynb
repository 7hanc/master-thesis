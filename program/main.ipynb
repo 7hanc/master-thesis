{
 "cells": [
  {
   "cell_type": "code",
   "execution_count": 2,
   "metadata": {},
   "outputs": [
    {
     "name": "stdout",
     "output_type": "stream",
     "text": [
      "0\n",
      "[3791862.2]\n",
      "0\n",
      "[3791862.2, 1936326.2]\n",
      "0\n",
      "[3791862.2, 1936326.2, 404796.3]\n",
      "0\n",
      "[3791862.2, 1936326.2, 404796.3, 78710.9]\n",
      "0\n",
      "[3791862.2, 1936326.2, 404796.3, 78710.9, 0.0]\n"
     ]
    }
   ],
   "source": [
    "import numpy as np, matplotlib.pyplot as plt\n",
    "import global_var\n",
    "from remove_par import *\n",
    "from ip import *\n",
    "from banzhaf import *\n",
    "from merge import *\n",
    "from split import *\n",
    "\n",
    "\n",
    "def algo():\n",
    "    \n",
    "    ################################# initial coalition structure & v\n",
    "    global_var.initial()  \n",
    "    fs=[]             \n",
    "    ################################# initial the utility of each coalition\n",
    "    for i in range(global_var.size):\n",
    "        fs.append([i])   \n",
    "        global_var.v[0].append([i])\n",
    "        global_var.v[1].append(min(global_var.cap[i],global_var.req[i])*global_var.u[i][i])\n",
    "             \n",
    "    ################################# \n",
    "    next_fs=[]\n",
    "    \n",
    "    while fs!=next_fs:    \n",
    "        fs=merge(fs, 3)   \n",
    "        next_fs=split(fs)          \n",
    "       \n",
    "    ################################# calculate total utility of coalition\n",
    "    total_utility=0\n",
    "        \n",
    "    for fs_id in fs:\n",
    "        total_utility += global_var.v[1][global_var.v[0].index(fs_id)]\n",
    "   \n",
    "    total_u.append(total_utility)\n",
    "   \n",
    "    ################################# calculate the total resources provided from providers\n",
    "    #total_resource=0\n",
    "    #for fs_id in fs:\n",
    "    #    utility, v_name, v_value=ip(fs_id)\n",
    "    #    for i in v_value:\n",
    "    #        if i==None: v_value.remove(i)\n",
    "    #    total_resource+=sum(v_value)\n",
    "    #total_r.append(total_resource)\n",
    "    \n",
    "##################### main        \n",
    "total_u_mean=[]  # 記錄每筆utility平均\n",
    "#total_r_mean=[]  # 記錄每筆allocated resource平均\n",
    "\n",
    "global_var.si(10)\n",
    "global_var.fix() \n",
    "global_var.sam(5,10)  # x軸個數, sample個數\n",
    "global_var.read_sample()\n",
    "\n",
    "for i in range(global_var.x): # x軸個數\n",
    "    total_u=[]\n",
    "    #total_r=[]\n",
    "    #global_var.si(10+5*i)\n",
    "    \n",
    "    for j in range(global_var.sample):  #50個樣本\n",
    "        if j%10==0:\n",
    "            print(j)\n",
    "          \n",
    "        global_var.get_sample(i,j)\n",
    "        algo()  \n",
    "      \n",
    "    #total_r_mean.append(sum(total_r)/len(total_r))\n",
    "    total_u_mean.append(sum(total_u)/len(total_u))\n",
    "    print(total_u_mean)\n"
   ]
  }
 ],
 "metadata": {
  "kernelspec": {
   "display_name": "Python 3",
   "language": "python",
   "name": "python3"
  },
  "language_info": {
   "codemirror_mode": {
    "name": "ipython",
    "version": 3
   },
   "file_extension": ".py",
   "mimetype": "text/x-python",
   "name": "python",
   "nbconvert_exporter": "python",
   "pygments_lexer": "ipython3",
   "version": "3.6.5"
  }
 },
 "nbformat": 4,
 "nbformat_minor": 2
}
